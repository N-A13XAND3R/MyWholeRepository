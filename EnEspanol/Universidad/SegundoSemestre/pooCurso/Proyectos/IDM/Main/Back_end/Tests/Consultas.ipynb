{
 "cells": [
  {
   "cell_type": "code",
   "execution_count": 2,
   "metadata": {},
   "outputs": [],
   "source": [
    "import pandas as pd\n",
    "import sqlite3 as sql\n",
    "\n",
    "Apuntador = sql.connect(\"../DataBase/DataUsers.db\")\n",
    "\n",
    "df = pd.read_sql_query(\"SELECT * FROM Usuarios_Registrados\", Apuntador)"
   ]
  },
  {
   "cell_type": "code",
   "execution_count": 41,
   "metadata": {},
   "outputs": [
    {
     "data": {
      "text/html": [
       "<div>\n",
       "<style scoped>\n",
       "    .dataframe tbody tr th:only-of-type {\n",
       "        vertical-align: middle;\n",
       "    }\n",
       "\n",
       "    .dataframe tbody tr th {\n",
       "        vertical-align: top;\n",
       "    }\n",
       "\n",
       "    .dataframe thead th {\n",
       "        text-align: right;\n",
       "    }\n",
       "</style>\n",
       "<table border=\"1\" class=\"dataframe\">\n",
       "  <thead>\n",
       "    <tr style=\"text-align: right;\">\n",
       "      <th></th>\n",
       "      <th>Id</th>\n",
       "      <th>Nombre_Usuario</th>\n",
       "      <th>Contraseña</th>\n",
       "      <th>Aula</th>\n",
       "      <th>Rol</th>\n",
       "      <th>Email</th>\n",
       "      <th>CheckMail</th>\n",
       "    </tr>\n",
       "  </thead>\n",
       "  <tbody>\n",
       "    <tr>\n",
       "      <th>0</th>\n",
       "      <td>1</td>\n",
       "      <td>Angel Arevalo</td>\n",
       "      <td>0xb5a 0x21a 0x170 0x211 0x70a 0x7aa 0xa5d 0x702</td>\n",
       "      <td>-1</td>\n",
       "      <td>1</td>\n",
       "      <td>anarevalof@unal.edu.co</td>\n",
       "      <td>0</td>\n",
       "    </tr>\n",
       "    <tr>\n",
       "      <th>1</th>\n",
       "      <td>2</td>\n",
       "      <td>Pepito Peres</td>\n",
       "      <td>0xb5a 0x21a 0x170 0x211 0x70a 0x7aa 0xa5d 0x702</td>\n",
       "      <td>-1</td>\n",
       "      <td>1</td>\n",
       "      <td>sa4476002@gmail.com</td>\n",
       "      <td>0</td>\n",
       "    </tr>\n",
       "  </tbody>\n",
       "</table>\n",
       "</div>"
      ],
      "text/plain": [
       "   Id Nombre_Usuario                                       Contraseña Aula  \\\n",
       "0   1  Angel Arevalo  0xb5a 0x21a 0x170 0x211 0x70a 0x7aa 0xa5d 0x702   -1   \n",
       "1   2   Pepito Peres  0xb5a 0x21a 0x170 0x211 0x70a 0x7aa 0xa5d 0x702   -1   \n",
       "\n",
       "   Rol                   Email CheckMail  \n",
       "0    1  anarevalof@unal.edu.co         0  \n",
       "1    1     sa4476002@gmail.com         0  "
      ]
     },
     "execution_count": 41,
     "metadata": {},
     "output_type": "execute_result"
    }
   ],
   "source": [
    "df"
   ]
  },
  {
   "cell_type": "code",
   "execution_count": 3,
   "metadata": {},
   "outputs": [],
   "source": [
    "Apuntador.commit()\n",
    "Apuntador.close()"
   ]
  },
  {
   "cell_type": "code",
   "execution_count": 4,
   "metadata": {},
   "outputs": [
    {
     "name": "stdout",
     "output_type": "stream",
     "text": [
      "Dropped table: Roles\n",
      "Dropped table: Usuarios_Registrados\n",
      "Dropped table: Aulas\n",
      "Dropped table: User_Aulas\n",
      "Dropped table: Aula_plf520\n",
      "Dropped table: Mundo1_plf520\n",
      "Dropped table: Mundo2_plf520\n"
     ]
    }
   ],
   "source": [
    "import sqlite3 as sql\n",
    "\n",
    "# Connect to the SQLite database\n",
    "connection = sql.connect(\"../DataBase/DataUsers.db\")\n",
    "cursor = connection.cursor()\n",
    "\n",
    "# Get a list of all tables in the database\n",
    "cursor.execute(\"SELECT name FROM sqlite_master WHERE type='table';\")\n",
    "tables = cursor.fetchall()\n",
    "\n",
    "# Drop each table\n",
    "for table in tables:\n",
    "    table_name = table[0]\n",
    "    cursor.execute(f\"DROP TABLE IF EXISTS {table_name};\")\n",
    "    print(f\"Dropped table: {table_name}\")\n",
    "\n",
    "# Commit the changes and close the connection\n",
    "connection.commit()\n",
    "connection.close()"
   ]
  }
 ],
 "metadata": {
  "kernelspec": {
   "display_name": "Python 3",
   "language": "python",
   "name": "python3"
  },
  "language_info": {
   "codemirror_mode": {
    "name": "ipython",
    "version": 3
   },
   "file_extension": ".py",
   "mimetype": "text/x-python",
   "name": "python",
   "nbconvert_exporter": "python",
   "pygments_lexer": "ipython3",
   "version": "3.11.1"
  }
 },
 "nbformat": 4,
 "nbformat_minor": 2
}
